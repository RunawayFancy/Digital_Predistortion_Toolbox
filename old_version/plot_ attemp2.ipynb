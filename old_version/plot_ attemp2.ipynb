{
 "cells": [
  {
   "cell_type": "code",
   "execution_count": 106,
   "id": "93c4fce3-24bb-4c26-9cec-23e1eb6d3987",
   "metadata": {
    "tags": []
   },
   "outputs": [],
   "source": [
    "import numpy as np\n",
    "import pickle\n",
    "import matplotlib.pyplot as plt\n",
    "\n",
    "def voltage_time_figure_plot(X1, Y1, color_code, name):\n",
    "    # Create figure\n",
    "    figure1 = plt.figure(name)\n",
    "    \n",
    "    # Create axes\n",
    "    axes1 = figure1.add_subplot(1, 1, 1)\n",
    "    \n",
    "    # Create plot\n",
    "    axes1.plot(X1, Y1, linewidth=2, color=color_code)\n",
    "    \n",
    "    # Set ylabel\n",
    "    axes1.set_ylabel('Voltage (mV)', fontsize=16.5)\n",
    "    \n",
    "    # Set xlabel\n",
    "    axes1.set_xlabel('Time (s)', fontsize=16.5)\n",
    "    \n",
    "    # Set title\n",
    "    axes1.set_title(name, fontsize=16.5)\n",
    "    \n",
    "    # Set x-axis limit\n",
    "    # axes1.set_xlim([0, 0.000001])\n",
    "    \n",
    "    # Uncomment the following line to set y-axis limit\n",
    "    # axes1.set_ylim([-60, 60])\n",
    "    \n",
    "    # Uncomment the following line to set z-axis limit\n",
    "    # axes1.set_zlim([-1, 1])\n",
    "    \n",
    "    axes1.grid(True)\n",
    "    axes1.set_axisbelow(True)\n",
    "    axes1.tick_params(labelsize=15)\n",
    "    \n",
    "    # Show the plot\n",
    "    plt.show()\n",
    "\n",
    "def set_mean(waveform):\n",
    "    return np.mean(waveform[1], axis=0)\n",
    "\n",
    "def set_offset(waveform, adjust):\n",
    "    return np.array(waveform[1]) - waveform[1][0] * adjust\n",
    "\n",
    "def set_gain(waveform, adjust):\n",
    "    gain = np.abs(np.max(waveform[1]) * adjust)\n",
    "    return np.array(waveform[1]) / gain\n",
    "\n",
    "def set_gain_tail(waveform, time_point):\n",
    "    time_point_index = np.where(np.array(waveform[0]) > time_point)[0][0]\n",
    "    gain = np.abs(waveform[1][time_point_index])\n",
    "    print(\"gain = {}\".format(gain))\n",
    "    print(\"waveform[1][time_point_index] = {}\".format(np.array(waveform[1])[time_point_index]))\n",
    "    print(\"np.array(waveform[1]) / gain = {}\".format(np.array(waveform[1])[time_point_index] / gain))\n",
    "    return np.array(waveform[1]) / gain\n",
    "\n",
    "def moving_agerage(waveform,window_size ):\n",
    "    i = 0\n",
    "    # Initialize an empty list to store moving averages\n",
    "    moving_averages = []\n",
    "    arr = np.array(waveform[1])\n",
    "    # Loop through the array t o\n",
    "    while i < len(arr) - window_size + 1:\n",
    "    \n",
    "        # Calculate the average of current window\n",
    "        window_average = np.sum(arr[\n",
    "        i:i+window_size]) / window_size\n",
    "        \n",
    "        # Store the average of current\n",
    "        # window in moving average list\n",
    "        moving_averages.append(window_average)\n",
    "        \n",
    "        # Shift window to right by one position\n",
    "        i += 1\n",
    "    waveform[0] = np.array(waveform[0])[0 : len(arr) - window_size+1]\n",
    "    waveform[1] = moving_averages\n",
    "    \n",
    "    return waveform\n",
    "\n",
    "def append_waveform_index(waveform, index, name, file_name, time_point):\n",
    "    waveform_dummy = pickle.load(open(file_name, \"rb\"))# set_mean(pickle.load(open(file_name, \"rb\")))# moving_agerage(pickle.load(open(file_name, \"rb\")), window_size)\n",
    "    # print(np.shape(waveform_dummy))\n",
    "    # print(waveform_dummy)\n",
    "    waveform_dummy[1] = set_mean(waveform_dummy)\n",
    "    waveform_dummy[0] = waveform_dummy[0][0]\n",
    "    waveform_dummy = moving_agerage(waveform_dummy, window_size)\n",
    "    waveform_dummy[1] = set_offset(waveform_dummy,1)\n",
    "    # waveform_dummy[1] = set_gain(waveform_dummy, 1)\n",
    "    waveform_dummy[1] = set_gain_tail(waveform_dummy, time_point)\n",
    "    index.append(name)\n",
    "    waveform.append(waveform_dummy)\n",
    "    \n",
    "    return waveform, index\n",
    "\n",
    "def plot_list(ax, index_want_plot, index_set, waveform, X, header_label):\n",
    "    for line_code in index_want_plot:\n",
    "        i = np.where( np.array(index_set) == line_code)[0][0]\n",
    "        ax.plot(X, waveform[i][1], label= header_label + index_set[i])\n",
    "    return 0"
   ]
  },
  {
   "cell_type": "code",
   "execution_count": 145,
   "id": "5f7c6c7e-ff79-4fea-b2fc-620bf83b0b3d",
   "metadata": {
    "tags": []
   },
   "outputs": [
    {
     "name": "stdout",
     "output_type": "stream",
     "text": [
      "gain = 39405.662\n",
      "waveform[1][time_point_index] = 39405.662\n",
      "np.array(waveform[1]) / gain = 1.0\n",
      "gain = 39322.207839999995\n",
      "waveform[1][time_point_index] = 39322.207839999995\n",
      "np.array(waveform[1]) / gain = 1.0\n",
      "gain = 13085.86736\n",
      "waveform[1][time_point_index] = 13085.86736\n",
      "np.array(waveform[1]) / gain = 1.0\n",
      "gain = 9837.6332\n",
      "waveform[1][time_point_index] = 9837.6332\n",
      "np.array(waveform[1]) / gain = 1.0\n",
      "gain = 38552.13604\n",
      "waveform[1][time_point_index] = 38552.13604\n",
      "np.array(waveform[1]) / gain = 1.0\n",
      "gain = 6278.974200000001\n",
      "waveform[1][time_point_index] = 6278.974200000001\n",
      "np.array(waveform[1]) / gain = 1.0\n",
      "gain = 13144.23404\n",
      "waveform[1][time_point_index] = 13144.23404\n",
      "np.array(waveform[1]) / gain = 1.0\n",
      "gain = 12808.440159999998\n",
      "waveform[1][time_point_index] = 12808.440159999998\n",
      "np.array(waveform[1]) / gain = 1.0\n",
      "gain = 12694.66424\n",
      "waveform[1][time_point_index] = 12694.66424\n",
      "np.array(waveform[1]) / gain = 1.0\n",
      "gain = 38341.091400000005\n",
      "waveform[1][time_point_index] = 38341.091400000005\n",
      "np.array(waveform[1]) / gain = 1.0\n",
      "gain = 3136.4352800000015\n",
      "waveform[1][time_point_index] = 3136.4352800000015\n",
      "np.array(waveform[1]) / gain = 1.0\n",
      "gain = 9833.31396\n",
      "waveform[1][time_point_index] = 9833.31396\n",
      "np.array(waveform[1]) / gain = 1.0\n",
      "gain = 3900.2249199999997\n",
      "waveform[1][time_point_index] = 3900.2249199999997\n",
      "np.array(waveform[1]) / gain = 1.0\n",
      "gain = 3901.17644\n",
      "waveform[1][time_point_index] = 3901.17644\n",
      "np.array(waveform[1]) / gain = 1.0\n",
      "gain = 38098.320439999996\n",
      "waveform[1][time_point_index] = 38098.320439999996\n",
      "np.array(waveform[1]) / gain = 1.0\n",
      "gain = 9729.638160000006\n",
      "waveform[1][time_point_index] = 9729.638160000006\n",
      "np.array(waveform[1]) / gain = 1.0\n",
      "gain = 39348.92488\n",
      "waveform[1][time_point_index] = 39348.92488\n",
      "np.array(waveform[1]) / gain = 1.0\n",
      "gain = 9883.914840000001\n",
      "waveform[1][time_point_index] = 9883.914840000001\n",
      "np.array(waveform[1]) / gain = 1.0\n",
      "gain = 9818.81336\n",
      "waveform[1][time_point_index] = 9818.81336\n",
      "np.array(waveform[1]) / gain = 1.0\n",
      "gain = 39400.92232\n",
      "waveform[1][time_point_index] = 39400.92232\n",
      "np.array(waveform[1]) / gain = 1.0\n"
     ]
    }
   ],
   "source": [
    "window_size = 500\n",
    "time_point = 109 * 10**(-6)\n",
    "\n",
    "character_set = [\"A\", \"B\", \"C\", \"D\", \"E\", \"F\"]\n",
    "atten_db_set = [None ,\"0\", \"10\", \"20\", \"0\", None]\n",
    "\n",
    "waveform = [] # Waveform with cold plate only\n",
    "waveform_AttenPlate = [] # Waveform cold plate plus attenuator (BB, CC, DD, EE) = (0dB, 10dB, 20dB, 0dB)\n",
    "waveform_AttenOnly = [] # Wavefor attenuator only (0dB, 10dB, 20dB)\n",
    "waveform_CopperLine = [] # Waveform copper line only with three different length\n",
    "waveform_AttenCopperLine = []\n",
    "\n",
    "# The corresponding string index \n",
    "index = []\n",
    "index_AttenPlate = []\n",
    "index_AttenOnly = []\n",
    "index_CopperLine = []\n",
    "index_AttenCopperLine = []\n",
    "\n",
    "# Load waveform of all components\n",
    "length = len(character_set)\n",
    "for index_chara1 in range(length):\n",
    "    chara1= character_set[index_chara1]\n",
    "    file_name = \"E:/OP/Experiments/0616_2023_pred/DATA/test/copper_line/Line\"+ chara1 + chara1 +\"_10rep_80G_80kpts_70us_TLineCase2.pkl\"\n",
    "    waveform, index = append_waveform_index(waveform, index, chara1 + chara1, file_name, time_point)\n",
    "\n",
    "    if chara1 not in [\"A\", \"F\"]:\n",
    "        atten_name = atten_db_set[index_chara1]\n",
    "        file_name = \"E:/OP/Experiments/0616_2023_pred/DATA/test/copper_line/Line\"+ chara1 + chara1 +\"_\" + atten_name +\"dbAtten_10rep_80G_80kpts_70us_TLineCase2.pkl\"\n",
    "        waveform_AttenPlate, index_AttenPlate =  append_waveform_index(waveform_AttenPlate, index_AttenPlate, chara1 + chara1, file_name, time_point)\n",
    "        if chara1 not in [\"E\"]:\n",
    "            file_name = \"E:/OP/Experiments/0616_2023_pred/DATA/test/copper_line/\" + atten_name + \"dbAtten_10rep_80G_80kpts_70us_TLineCase2.pkl\"\n",
    "            waveform_AttenOnly, index_AttenOnly =  append_waveform_index(waveform_AttenOnly, index_AttenOnly, atten_name, file_name, time_point)\n",
    "    for index_chara2 in range(index_chara1, length):\n",
    "        chara2= character_set[index_chara2]\n",
    "        if chara1 + chara2 in ['BC', 'CD', 'DE']:\n",
    "            file_name = \"E:/OP/Experiments/0616_2023_pred/DATA/test/copper_line/CopperLine\"+ chara1 + chara2 +\"_10rep_80G_80kpts_70us_TLineCase2.pkl\"\n",
    "            waveform_CopperLine, index_CopperLine = append_waveform_index(waveform_CopperLine, index_CopperLine, chara1 + chara2, file_name, time_point)  \n",
    "            file_name = \"E:/OP/Experiments/0616_2023_pred/DATA/test/copper_line/\"+chara1+chara1+\"Atten_CopperLine\"+chara1+chara2+\"_\"+chara2+chara2+\"Atten_10rep_80G_80kpts_70us_TLineCase2.pkl\"\n",
    "            waveform_AttenCopperLine, index_AttenCopperLine = append_waveform_index(waveform_AttenCopperLine, index_AttenCopperLine, chara1+chara1+chara1 + chara2+chara2+chara2, file_name, time_point) \n",
    "# Read AWG waveform\n",
    "waveform_AWG =  pickle.load(open(\"E:/OP/Experiments/0616_2023_pred/DATA/test/copper_line/BareAWG_10rep_80G_80kpts_70us_TLineCase2.pkl\", \"rb\"))# moving_agerage(pickle.load(open(\"E:/OP/Experiments/0616_2023_pred/DATA/retest_500smooth_BareAWG_new_averaged.pkl\", \"rb\")), window_size)\n",
    "waveform_AWG[1] = set_mean(np.copy(waveform_AWG))\n",
    "waveform_AWG[0] = waveform_AWG[0][0]\n",
    "waveform_AWG = moving_agerage(waveform_AWG, window_size)\n",
    "waveform_AWG[1] = set_offset(np.copy(waveform_AWG),1)\n",
    "# waveform_AWG[1] = set_gain(np.copy(waveform_AWG),1)\n",
    "waveform_AWG[1] = set_gain_tail(np.copy(waveform_AWG), time_point)\n",
    "\n",
    "# waveform_AWG2 =  pickle.load(open(\"E:/OP/Experiments/0616_2023_pred/DATA/test/copper_line/test1_BareAWG_10rep_80G_80kpts_70us_TLineCase2.pkl\", \"rb\"))# moving_agerage(pickle.load(open(\"E:/OP/Experiments/0616_2023_pred/DATA/retest_500smooth_BareAWG_new_averaged.pkl\", \"rb\")), window_size)\n",
    "# waveform_AWG2[1] = set_mean(np.copy(waveform_AWG2))\n",
    "# waveform_AWG2[0] = waveform_AWG2[0][0]\n",
    "# waveform_AWG2 = moving_agerage(waveform_AWG2, window_size)\n",
    "# waveform_AWG2[1] = set_offset(np.copy(waveform_AWG2),1)\n",
    "# waveform_AWG2[1] = set_gain_tail(np.copy(waveform_AWG2), time_point)\n",
    "\n",
    "# waveform_AWG = waveform_AWG\n",
    "\n",
    "index_L0 = ['AA', 'BB', 'CC', 'DD', 'EE', 'FF']\n",
    "index_L1 = ['AB', 'BC', 'CD', 'DE', 'EF']\n",
    "index_L2 = ['AC', 'BD', 'CE', 'DF']\n",
    "index_L3 = ['AD', 'BE', 'CF']\n",
    "index_L4 = ['AE', 'BF']\n",
    "index_L5 = ['AF']\n",
    "\n",
    "X = np.array(waveform[0][0]) * 10**6"
   ]
  },
  {
   "cell_type": "code",
   "execution_count": 148,
   "id": "3eca86fd-72d4-43db-898c-ffa2289231d3",
   "metadata": {
    "tags": []
   },
   "outputs": [
    {
     "name": "stdout",
     "output_type": "stream",
     "text": [
      "Index: ['AA', 'BB', 'CC', 'DD', 'EE', 'FF'], Cold plate only\n",
      "Index_AttenPlate: ['BB', 'CC', 'DD', 'EE'], Cold plate + attenuator (DD: 20dB; BB and EE: 0dB; CC: 10dB)\n",
      "Index_AttenOnly: ['0', '10', '20'], attenuator only (20dB, 0dB, and 10dB)\n",
      "Index_CopperLine: ['BC', 'CD', 'DE'], Copper line only\n",
      "waveform_AttenCopperLine: ['BBBCCC', 'CCCDDD', 'DDDEEE'], Copper line only\n"
     ]
    }
   ],
   "source": [
    "print(\"Index: {}, Cold plate only\".format(index))\n",
    "print(\"Index_AttenPlate: {}, Cold plate + attenuator (DD: 20dB; BB and EE: 0dB; CC: 10dB)\".format(index_AttenPlate))\n",
    "print(\"Index_AttenOnly: {}, attenuator only (20dB, 0dB, and 10dB)\".format(index_AttenOnly))\n",
    "print(\"Index_CopperLine: {}, Copper line only\".format(index_CopperLine))\n",
    "print(\"waveform_AttenCopperLine: {}, Copper line only\".format(index_AttenCopperLine))"
   ]
  },
  {
   "cell_type": "markdown",
   "id": "a86b0c9e-2c75-46f3-8f50-5de755dbc4aa",
   "metadata": {},
   "source": [
    "# Plotting "
   ]
  },
  {
   "cell_type": "code",
   "execution_count": 154,
   "id": "d1745cb5-538c-49f9-982f-88f652e29a77",
   "metadata": {
    "tags": []
   },
   "outputs": [],
   "source": [
    "index_want_plot1 = [ 'DD', 'EE'] #['BB'] # ['AA', 'BB', 'CC', 'DD', 'EE', 'FF'] # # for the waveform case # plate only\n",
    "index_want_plot2 = [None] # ['BB'] #['BB', 'CC', 'DD', 'EE']  # for the waveform_AttenPlate case\n",
    "index_want_plot3 = ['20', '0'] # ['0'] # ['0', '10', '20'] # for the waveform_AttenOnly\n",
    "index_want_plot4 = ['DE'] # ['BC'] # ['BC', 'CD', 'DE'] # for the waveform_CopperLine case\n",
    "index_want_plot5 = ['DDDEEE'] # ['BBBCCC', 'CCCDDD', 'DDDEEE'] # for the waveform_AttenCopperLine case\n",
    "\n",
    "index_want_plot_total = [index_want_plot1, index_want_plot2, index_want_plot3, index_want_plot4, index_want_plot5]\n",
    "index_total = [index, index_AttenPlate, index_AttenOnly, index_CopperLine, index_AttenCopperLine]\n",
    "waveform_total = [waveform, waveform_AttenPlate, waveform_AttenOnly, waveform_CopperLine, waveform_AttenCopperLine]\n",
    "header_label_total = [\" Cold plate only \", \"Cold plate + attenuator \", \"Attenuator only (dB) \", \"Copper line only \", \"Atten + plate + line + atten + plate \"]\n",
    "\n",
    "AWG_switch = 1 # 0 off, 1 on\n",
    "\n",
    "%matplotlib qt\n",
    "\n",
    "fig = plt.figure()\n",
    "ax = fig.add_subplot(111)\n",
    "\n",
    "for jdex in range(len(index_want_plot_total)):\n",
    "    if None not in index_want_plot_total[jdex]:\n",
    "        plot_list(ax, index_want_plot_total[jdex],  index_total[jdex], waveform_total[jdex], X, header_label_total[jdex])\n",
    "if AWG_switch == 1:\n",
    "    ax.plot(X, waveform_AWG[1], label='AWG_Bare')\n",
    "    # ax.plot(X, waveform_AWG2[1], label='AWG_Bare test2')\n",
    "ax.grid()\n",
    "\n",
    "# Labels and title\n",
    "ax.set_xlabel('Time (us)')\n",
    "ax.set_ylabel('Amplitude')\n",
    "ax.set_title('Distorted waveform on copper lines, cable = 2.5m')\n",
    "\n",
    "# Legend\n",
    "ax.legend()\n",
    "\n",
    "# Display the plot\n",
    "plt.show()"
   ]
  },
  {
   "cell_type": "code",
   "execution_count": 113,
   "id": "33b6d6c6-c0e9-4e4b-b501-dd2d1def0646",
   "metadata": {
    "tags": []
   },
   "outputs": [
    {
     "data": {
      "text/plain": [
       "39.75"
      ]
     },
     "execution_count": 113,
     "metadata": {},
     "output_type": "execute_result"
    }
   ],
   "source": [
    "np.median(np.array(X)) - X[0]"
   ]
  },
  {
   "cell_type": "code",
   "execution_count": 126,
   "id": "79f81ff4-60e8-439d-b611-286d37f44002",
   "metadata": {
    "tags": []
   },
   "outputs": [
    {
     "data": {
      "text/plain": [
       "0.03399999999999892"
      ]
     },
     "execution_count": 126,
     "metadata": {},
     "output_type": "execute_result"
    }
   ],
   "source": [
    "39.533206 - 39.499206"
   ]
  },
  {
   "cell_type": "code",
   "execution_count": null,
   "id": "d6038feb-8bba-46cb-875a-90045e77b732",
   "metadata": {},
   "outputs": [],
   "source": []
  },
  {
   "cell_type": "code",
   "execution_count": null,
   "id": "88410758-764b-454c-911d-b90c22d08951",
   "metadata": {},
   "outputs": [],
   "source": []
  }
 ],
 "metadata": {
  "kernelspec": {
   "display_name": "Python 3 (ipykernel)",
   "language": "python",
   "name": "python3"
  },
  "language_info": {
   "codemirror_mode": {
    "name": "ipython",
    "version": 3
   },
   "file_extension": ".py",
   "mimetype": "text/x-python",
   "name": "python",
   "nbconvert_exporter": "python",
   "pygments_lexer": "ipython3",
   "version": "3.11.2"
  }
 },
 "nbformat": 4,
 "nbformat_minor": 5
}
